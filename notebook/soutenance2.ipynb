{
 "cells": [
  {
   "cell_type": "markdown",
   "metadata": {
    "slideshow": {
     "slide_type": "slide"
    }
   },
   "source": [
    "<div>\n",
    "    <div style=\"width: 70%; float: left\">\n",
    "        <h1>Intelligence artificielle et Celeste </h1>\n",
    "        <h4>Réalisé par : Samir Belfaquir, Romain Corbeau, Tristan LeSaux et Nicolas Dupré-Pawlak</h4>\n",
    "    </div>\n",
    "    <img style=\"width:20%; height: auto;\" src=\"img/CelesteLogo.png\">\n",
    "</div>\n"
   ]
  },
  {
   "cell_type": "markdown",
   "metadata": {
    "slideshow": {
     "slide_type": "slide"
    }
   },
   "source": [
    "<h1> Présentation du projet </h1>"
   ]
  },
  {
   "cell_type": "markdown",
   "metadata": {
    "slideshow": {
     "slide_type": "subslide"
    }
   },
   "source": [
    "<h2>Démonstration du jeu</h2>"
   ]
  },
  {
   "cell_type": "markdown",
   "metadata": {
    "slideshow": {
     "slide_type": "subslide"
    }
   },
   "source": [
    "<div>\n",
    "    <h1> Lancement du projet avec un random agent</h1>\n",
    "</div>"
   ]
  },
  {
   "cell_type": "code",
   "execution_count": 5,
   "metadata": {
    "slideshow": {
     "slide_type": "fragment"
    }
   },
   "outputs": [],
   "source": [
    "import retro\n",
    "\n",
    "def main():\n",
    "    env = retro.make(game='Celeste-GBA', state='Level1')\n",
    "    obs = env.reset()\n",
    "    while True:\n",
    "        obs, rew, done, info =  env.step(env.action_space.sample())\n",
    "        env.render()\n",
    "        if done:\n",
    "            obs = env.reset()\n",
    "    env.close()\n",
    "\n",
    "\n",
    "#if __name__ == \"__main__\":\n",
    "    #main()"
   ]
  },
  {
   "cell_type": "markdown",
   "metadata": {
    "slideshow": {
     "slide_type": "subslide"
    }
   },
   "source": [
    "<h1>Résultat attendu : </h1>"
   ]
  },
  {
   "cell_type": "code",
   "execution_count": 6,
   "metadata": {
    "scrolled": true,
    "slideshow": {
     "slide_type": "skip"
    }
   },
   "outputs": [],
   "source": [
    "from IPython.display import HTML\n",
    "\n",
    "def show_celeste_video():\n",
    "    return HTML(\"\"\"\n",
    "    <div align=\"middle\">\n",
    "        <video width=\"50%\" controls>\n",
    "            <source src=\"records/MP4/randomRun.mp4\" type=\"video/mp4\">\n",
    "        </video>\n",
    "    </div>\n",
    "    \"\"\")"
   ]
  },
  {
   "cell_type": "code",
   "execution_count": 7,
   "metadata": {
    "scrolled": true,
    "slideshow": {
     "slide_type": "fragment"
    }
   },
   "outputs": [
    {
     "data": {
      "text/html": [
       "\n",
       "    <div align=\"middle\">\n",
       "        <video width=\"50%\" controls>\n",
       "            <source src=\"records/MP4/randomRun.mp4\" type=\"video/mp4\">\n",
       "        </video>\n",
       "    </div>\n",
       "    "
      ],
      "text/plain": [
       "<IPython.core.display.HTML object>"
      ]
     },
     "execution_count": 7,
     "metadata": {},
     "output_type": "execute_result"
    }
   ],
   "source": [
    "show_celeste_video()"
   ]
  },
  {
   "cell_type": "markdown",
   "metadata": {
    "slideshow": {
     "slide_type": "slide"
    }
   },
   "source": [
    "<h1> Nouveautés: </h1>"
   ]
  },
  {
   "cell_type": "markdown",
   "metadata": {
    "slideshow": {
     "slide_type": "fragment"
    }
   },
   "source": [
    "<h3> Réseau neuronal </h3>"
   ]
  },
  {
   "cell_type": "markdown",
   "metadata": {
    "slideshow": {
     "slide_type": "fragment"
    }
   },
   "source": [
    "<h3> Policy forward </h3>"
   ]
  },
  {
   "cell_type": "markdown",
   "metadata": {
    "slideshow": {
     "slide_type": "fragment"
    }
   },
   "source": [
    "<h3> Inputs </h3>"
   ]
  },
  {
   "cell_type": "markdown",
   "metadata": {
    "slideshow": {
     "slide_type": "fragment"
    }
   },
   "source": [
    "<h3> Policy backward </h3>"
   ]
  },
  {
   "cell_type": "markdown",
   "metadata": {
    "slideshow": {
     "slide_type": "subslide"
    }
   },
   "source": [
    "<h1> Réseau neuronal </h1>\n",
    "<h3> Neurones, fonctions d'activations et réseaux de neurones </h3>"
   ]
  },
  {
   "cell_type": "markdown",
   "metadata": {
    "slideshow": {
     "slide_type": "subslide"
    }
   },
   "source": [
    "<h2> Le neurone artificiel </h2>\n",
    "<table>\n",
    "    <tr style=\"background: transparent\">\n",
    "        <td style=\"border: none\">\n",
    "            <h3>Schéma biologique</h3>\n",
    "        </td>\n",
    "        <td style=\"border: none\">\n",
    "            <h3>Dans un modèle mathématique: $f(\\sum{x_i*w_i} + b)$ </h3>\n",
    "        </td>\n",
    "    </tr>\n",
    "    <tr style=\"background: transparent\">\n",
    "        <td>\n",
    "            <img src=\"img/SCHEMA_NEURONE_1.png\" />\n",
    "        </td>\n",
    "        <td>\n",
    "            <img src=\"img/SCHEMA_NEURONE_2.png\" />\n",
    "        </td>\n",
    "    </tr>\n",
    "</table>"
   ]
  },
  {
   "cell_type": "markdown",
   "metadata": {
    "slideshow": {
     "slide_type": "subslide"
    }
   },
   "source": [
    "<h2> Rapidement: la fonction d'activation </h2>\n",
    "<table>\n",
    "    <tr style=\"background: transparent\">\n",
    "        <td style=\"border: none\">\n",
    "            <h3>Sigmoïde : $σ(x)=1/(1+e−x)$</h3>\n",
    "        </td>\n",
    "        <td style=\"border: none\">\n",
    "            <h3>TanH : $f(x)=(2/1+e^{-2x}) -1$</h3>\n",
    "        </td>\n",
    "        <td style=\"border: none\">\n",
    "            <h3>ReLU : $f(x)=max(0,x)$</h3>\n",
    "        </td>\n",
    "    </tr>\n",
    "    <tr style=\"background: transparent\">\n",
    "        <td style=\"border: none\">\n",
    "            <img src=\"img/SCHEMA_SIGMOIDE.png\" />\n",
    "        </td>\n",
    "        <td style=\"border: none\">\n",
    "            <img src=\"img/SCHEMA_TANH.png\" />\n",
    "        </td>\n",
    "        <td style=\"border: none\">\n",
    "            <img src=\"img/SCHEMA_RELU.png\" />\n",
    "        </td>\n",
    "    </tr>\n",
    "    <tr style=\"background: transparent\">\n",
    "        <td style=\"border: none\">\n",
    "            Problème : Vanish Gradient Problem, mauvaise mise à jour du gradient.\n",
    "        </td>\n",
    "        <td style=\"border: none\">\n",
    "            Fonction centrée en zéro. Problème : Vanish Gradient Problem.\n",
    "        </td>\n",
    "        <td style=\"border: none\">\n",
    "            Utilisé dans les couches cachées. Elle permet au gradient de ne pas se rapprocher de 0 afin qu'il soit linéaire.\n",
    "            Problème : gradient à 0.\n",
    "            <br />\n",
    "            <strong>6x plus rapide que sigmoïde ou tanh.</strong>\n",
    "        </td>\n",
    "    </tr>\n",
    "</table>"
   ]
  },
  {
   "cell_type": "markdown",
   "metadata": {
    "slideshow": {
     "slide_type": "subslide"
    }
   },
   "source": [
    "<h2> Un réseau de neurones </h2>\n",
    "<table>\n",
    "    <tr style=\"background: transparent\">\n",
    "        <td>\n",
    "            <ul>\n",
    "                <li>Couche entrée -> informations</li>\n",
    "                <li>Couche cachée -> calculer les étapes intermédiaires</li>\n",
    "                <li>Couche sortie -> calculer le résultat et sa probabilité</li>\n",
    "            </ul>\n",
    "        </td>\n",
    "        <td>\n",
    "            <img src=\"img/SCHEMA_PERCEPTRON_SHOW.png\" />\n",
    "        </td>\n",
    "    </tr>\n",
    "</table>"
   ]
  },
  {
   "cell_type": "markdown",
   "metadata": {
    "slideshow": {
     "slide_type": "subslide"
    }
   },
   "source": [
    "<h2> Exemple de notre agent dans Celeste </h2>\n",
    "<span> Preprocessing des frames et calcul matrice-vecteur </span>\n",
    "\n",
    "<h2>Modèle utilisé pour Celeste</h2>\n",
    "<img src=\"img/SCHEMA_PERCEPTRON.png\" />"
   ]
  },
  {
   "cell_type": "markdown",
   "metadata": {
    "slideshow": {
     "slide_type": "subslide"
    }
   },
   "source": [
    "<h1> Policy forward </h1>"
   ]
  },
  {
   "cell_type": "markdown",
   "metadata": {
    "slideshow": {
     "slide_type": "fragment"
    }
   },
   "source": [
    "<table>\n",
    "    <tr style=\"background: transparent\">\n",
    "        <td>\n",
    "            <img src=\"img/policyForward.png\" />\n",
    "        </td>\n",
    "        <td style=\"font-size: 3em\">\n",
    "            Xavier initialization\n",
    "        </td>\n",
    "    </tr>\n",
    "</table>\n"
   ]
  },
  {
   "cell_type": "markdown",
   "metadata": {
    "slideshow": {
     "slide_type": "subslide"
    }
   },
   "source": [
    "<div style=\"text-align: center\">\n",
    "    <img src=\"img/policyForwardCode.png\" />\n",
    "    <img src=\"img/forward_backward.png\" />\n",
    "</div>"
   ]
  },
  {
   "cell_type": "markdown",
   "metadata": {
    "slideshow": {
     "slide_type": "subslide"
    }
   },
   "source": [
    "<h1> Inputs </h1>"
   ]
  },
  {
   "cell_type": "markdown",
   "metadata": {
    "slideshow": {
     "slide_type": "fragment"
    }
   },
   "source": [
    "<div>\n",
    "    <h3> Les types d'actions de gym retro </h3>\n",
    "    <ul>\n",
    "        <li>Discret</li>\n",
    "        <li>Multi Discret</li>\n",
    "        <li>Multi Binaire</li>\n",
    "    </ul>\n",
    "</div>"
   ]
  },
  {
   "cell_type": "markdown",
   "metadata": {
    "slideshow": {
     "slide_type": "subslide"
    }
   },
   "source": [
    "<div>\n",
    "    <h3> Discret </h3>\n",
    "    <table>\n",
    "        <tr style=\"background: transparent\">\n",
    "            <td style=\"text-align: center\"> Gauche: </td>\n",
    "            <td> <img src=\"img/toucheD.png\" /> </td>\n",
    "        </tr>\n",
    "        <tr style=\"background: transparent\">\n",
    "            <td style=\"text-align: center\"> Saut: </td>\n",
    "            <td> <img  src=\"img/toucheX.png\" /> </td>\n",
    "        </tr>\n",
    "        <tr style=\"background: transparent\">\n",
    "            <td style=\"text-align: center\"> Gauche + Saut  </td>\n",
    "            <td> <img src=\"img/toucheA.png\" /> </td>\n",
    "        </tr>\n",
    "    </table>\n",
    "</div>"
   ]
  },
  {
   "cell_type": "markdown",
   "metadata": {
    "slideshow": {
     "slide_type": "subslide"
    }
   },
   "source": [
    "<div>\n",
    "    <h3> Multi Discret </h3>\n",
    "    <table>\n",
    "        <tr style=\"background: transparent\">\n",
    "            <td style=\"text-align: center\"> Gauche: </td>\n",
    "            <td> <img src=\"img/toucheD.png\" /> </td>\n",
    "        </tr>\n",
    "        <tr style=\"background: transparent\">\n",
    "            <td style=\"text-align: center\"> Saut: </td>\n",
    "            <td> <img src=\"img/toucheX.png\" /> </td>\n",
    "        </tr>\n",
    "        <tr style=\"background: transparent\">\n",
    "            <td style=\"text-align: center\"> Gauche + Saut:  </td>\n",
    "            <td> <img style=\"display: inline\" src=\"img/toucheD.png\" /> <span style=\"font-size: 2em\"> + </span> <img style=\"display: inline; margin-top: 0;\" src=\"img/toucheX.png\" /> </td>\n",
    "        </tr>\n",
    "    </table>\n",
    "</div>"
   ]
  },
  {
   "cell_type": "markdown",
   "metadata": {
    "slideshow": {
     "slide_type": "subslide"
    }
   },
   "source": [
    "<div>\n",
    "    <h3> Multi Binaire </h3>\n",
    "    <table>\n",
    "        <tr style=\"background: transparent\">\n",
    "            <td style=\"text-align: center\"> Gauche: </td>\n",
    "            <td> <img src=\"img/toucheD.png\" /> </td>\n",
    "        </tr>\n",
    "        <tr style=\"background: transparent\">\n",
    "            <td style=\"text-align: center\"> Saut: </td>\n",
    "            <td> <img src=\"img/toucheX.png\" /> </td>\n",
    "        </tr>\n",
    "        <tr style=\"background: transparent\">\n",
    "            <td style=\"text-align: center\"> Saut + Gauche:  </td>\n",
    "            <td> <img style=\"display: inline\" src=\"img/toucheA.png\" /> <span style=\"font-size: 2em\"> = </span> <img style=\"display: inline\" src=\"img/toucheD.png\" /> <span style=\"font-size: 2em\"> + </span> <img style=\"display: inline\" src=\"img/toucheX.png\" /></td>\n",
    "        </tr>\n",
    "    </table>\n",
    "</div>"
   ]
  },
  {
   "cell_type": "markdown",
   "metadata": {
    "slideshow": {
     "slide_type": "subslide"
    }
   },
   "source": [
    "<h3> Les inputs de la GBA </h3>\n",
    "<br />\n",
    "<img src=\"img/inputs.png\" />\n"
   ]
  },
  {
   "cell_type": "code",
   "execution_count": null,
   "metadata": {
    "slideshow": {
     "slide_type": "subslide"
    }
   },
   "outputs": [],
   "source": [
    "# On choisit l'input en fonction de l'aprob renvoyé par le réseau neuronal en le comparant à un nombre aléatoire.\n",
    "# Pour l'axe horizontal, on choisit arbitrairement un coté (droite ou gauche) mais on c'est toujours le même en fonction de l'aprob.\n",
    "elem1 = 1 if np.random.uniform() < aprob1 else 2\n",
    "\n",
    "# Pareil pour l'axe vertical\n",
    "elem2 = 1 if np.random.uniform() < aprob2 else 2\n",
    "\n",
    "# Ici, on choisit soit de dash, soit de sauter soit de rien faire.\n",
    "# Le saut dash est une action possible mais inutile donc on l'ignore\n",
    "elem31 = 1 if np.random.uniform() < aprob3 else 0\n",
    "elem32 = 2 if np.random.uniform() < aprob3 else 0\n",
    "\n",
    "if elem31 != 0 and elem32 != 0:\n",
    "    elem3 = 4\n",
    "elif elem31 == 1:\n",
    "    elem3 = 1\n",
    "elif elem32 == 2:\n",
    "    elem3 = 2 \n",
    "else:\n",
    "    elem3 = 0\n",
    "\n",
    "# Les touches L et R sont inutiles, pas besoin de créer un nouveau réseau neuronal, donc on ignore.\n",
    "a = [elem1, elem2, elem3, 0]\n",
    "\n",
    "\n",
    "# On demande au simulateur d'effectuer l'action choisit.\n",
    "observation, reward, done, info = env.step(a)\n",
    " "
   ]
  },
  {
   "cell_type": "markdown",
   "metadata": {
    "slideshow": {
     "slide_type": "subslide"
    }
   },
   "source": [
    "<h1> Policy Backward </h1>"
   ]
  },
  {
   "cell_type": "markdown",
   "metadata": {
    "slideshow": {
     "slide_type": "fragment"
    }
   },
   "source": [
    "<img src=\"img/policyBackwardCode.png\" />\n",
    "<img src=\"img/forward_backward.png\" />"
   ]
  },
  {
   "cell_type": "markdown",
   "metadata": {
    "slideshow": {
     "slide_type": "subslide"
    }
   },
   "source": [
    "<h1>Discounted reward</h1>\n",
    "Le calcul d'un reward est la somme de tous les rewards obtenus durant l'épisode. Sans discount reward :\n",
    "$R=r_1+r_2+...+r_t$, t étant la longueur de l'épisode\n",
    "<p>\n",
    "En ajoutant un discount reward, ça devient : <br />\n",
    "$\\sum_{k=t}^T \\gamma^{(k-t)} r_{k}(s_{k},a_{k})$\n",
    "</p>"
   ]
  },
  {
   "cell_type": "markdown",
   "metadata": {
    "slideshow": {
     "slide_type": "subslide"
    }
   },
   "source": [
    "<h1> Learning rate </h1>\n",
    "\n",
    "<table>\n",
    "    <tr style=\"background: transparent\">\n",
    "        <td>\n",
    "            <img src=\"img/learning_rate_too_big.png\" />\n",
    "            <img src=\"img/learning_rate_too_small.png\" />\n",
    "        </td>\n",
    "        <td>\n",
    "            <img src=\"img/learning_rate_good.png\" />\n",
    "        </td>\n",
    "    </tr>\n",
    "</table>"
   ]
  },
  {
   "cell_type": "markdown",
   "metadata": {
    "slideshow": {
     "slide_type": "slide"
    }
   },
   "source": [
    "<h1> Difficultés rencontrées </h1>"
   ]
  },
  {
   "cell_type": "markdown",
   "metadata": {
    "slideshow": {
     "slide_type": "fragment"
    }
   },
   "source": [
    "<li> Récupération des inputs </li>"
   ]
  },
  {
   "cell_type": "markdown",
   "metadata": {
    "slideshow": {
     "slide_type": "fragment"
    }
   },
   "source": [
    "<li> Rewards manquantes </li>"
   ]
  },
  {
   "cell_type": "markdown",
   "metadata": {
    "slideshow": {
     "slide_type": "fragment"
    }
   },
   "source": [
    "<li> Implémentation du temps pour le reward mean </li>"
   ]
  },
  {
   "cell_type": "markdown",
   "metadata": {
    "slideshow": {
     "slide_type": "slide"
    }
   },
   "source": [
    "<h1> Démonstration </h1>"
   ]
  },
  {
   "cell_type": "markdown",
   "metadata": {
    "slideshow": {
     "slide_type": "fragment"
    }
   },
   "source": [
    "<img src=\"img/madeline.jpg\" />"
   ]
  },
  {
   "cell_type": "markdown",
   "metadata": {
    "slideshow": {
     "slide_type": "skip"
    }
   },
   "source": [
    "<h1> Résultats après plusieurs heures </h1>"
   ]
  },
  {
   "cell_type": "code",
   "execution_count": 9,
   "metadata": {
    "slideshow": {
     "slide_type": "skip"
    }
   },
   "outputs": [],
   "source": [
    "import numpy as np\n",
    "import matplotlib.pyplot as plt\n",
    "import json\n",
    "\n",
    "def show_graph():\n",
    "\n",
    "    total_reward_sum = []\n",
    "    total_running_rewards = []\n",
    "\n",
    "    with open('records/runRewardRecords.json') as json_file:\n",
    "        file_data = json.load(json_file)\n",
    "        for elem in file_data['records']:\n",
    "            total_reward_sum.append(elem['rewardSum'])\n",
    "            total_running_rewards.append(elem['runningReward'])\n",
    "\n",
    "    fig, ax = plt.subplots()\n",
    "    #plt.scatter(total_reward_sum, total_running_rewards, \"ko-\")\n",
    "    plt.scatter(total_reward_sum, total_running_rewards, ls=\"-\")\n",
    "    ax.set_title('Evolution des rewards au fil des runs')\n",
    "    ax.set_xlabel('Reward sum')\n",
    "    ax.set_ylabel('Running reward')\n",
    "    plt.show()"
   ]
  },
  {
   "cell_type": "code",
   "execution_count": 10,
   "metadata": {
    "slideshow": {
     "slide_type": "skip"
    }
   },
   "outputs": [
    {
     "data": {
      "image/png": "[encoded data removed]",
      "text/plain": [
       "<Figure size 432x288 with 1 Axes>"
      ]
     },
     "metadata": {
      "needs_background": "light"
     },
     "output_type": "display_data"
    }
   ],
   "source": [
    "show_graph()"
   ]
  },
  {
   "cell_type": "markdown",
   "metadata": {
    "slideshow": {
     "slide_type": "slide"
    }
   },
   "source": [
    "<h1>Sources</h1>\n",
    "\n",
    "<a href=\"https://www.numerama.com/sciences/175191-google-motive-ia-joue-mieux-a-vieux-jeu-atari.html\">Google motive son IA pour qu’elle joue mieux à un vieux jeu Atari</a> <br />\n",
    "<a href=\"https://arxiv.org/pdf/1606.01868v1.pdf\">Unifying Count-Based Exploration and Intrinsic Motivation</a> <br />\n",
    "<a href=\"https://k-actus.net/index.php/2018/11/21/lia-sattaque-aux-jeux-atari-2600/\">L’IA s’attaque aux jeux Atari 2600</a> <br />\n",
    "<a href=\"https://arxiv.org/pdf/1708.07902v3.pdf\">Deep Learning for Video Game Playing</a> <br />\n",
    "<a href=\"https://retro.readthedocs.io/en/latest/getting_started.html\"> Gym Retro by OpenAI </a> <br />\n",
    "<a href=\"https://karpathy.github.io/2016/05/31/rl/\">Deep Reinforcement Learning: Pong from Pixels</a><br />\n",
    "<a href=\"https://github.com/JeffRuLz/Celeste-Classic-GBA\"> Celeste version GBA </a><br />\n",
    "<a href=\"https://www.thinkopen.it/en/project/artificial-intelligence-state-of-the-art/\">Artificial Intelligence: state of the art</a><br />\n",
    "<a href=\"https://medium.com/aureliantactics/integrating-new-games-into-retro-gym-12b237d3ed75\">Integrating New Games into Retro Gym</a><br />\n",
    "<a href=\"https://courspython.com/apprendre-numpy.html\">Introduction à NumPy</a><br />\n",
    "<a href=\"https://spinningup.openai.com/en/latest/\">Welcome to Spinning Up in Deep RL!</a><br />\n",
    "<a href=\"https://moox.io/blog/keep-in-sync-git-repos-on-github-gitlab-bitbucket/\">Keep in sync your Git repos on GitHub, GitLab & Bitbucket</a><br />\n",
    "<a href=\"https://stable-baselines3.readthedocs.io/en/master/\">Stable-Baselines3 Docs - Reliable Reinforcement Learning Implementations</a><br />\n",
    "<a href=\"https://makina-corpus.com/blog/metier/2017/initiation-au-machine-learning-avec-python-theorie\">Initiation au Machine Learning avec Python - La théorie</a><br />\n",
    "<a href=\"https://medium.com/emergent-future/spam-detection-using-neural-networks-in-python-9b2b2a062272\">Spam detection using neural networks in Python</a><br />\n",
    "<a href=\"https://blog.octo.com/apprentissage-par-renforcement-de-la-theorie-a-la-pratique/\">Apprentissage par renforcement – de la théorie à la pratique</a><br />\n",
    "<a href=\"https://github.com/openai/retro/blob/master/retro/examples/discretizer.py\">Gym retro - Discretizer</a><br />\n",
    "<a href=\"https://github.com/openai/retro-baselines/blob/master/agents/sonic_util.py\"> Gym retro - Sonic</a><br />\n",
    "<a href=\"https://github.com/openai/gym/blob/master/gym/spaces/multi_discrete.py\">Gym - Multi descretizer</a><br />"
   ]
  },
  {
   "cell_type": "markdown",
   "metadata": {
    "slideshow": {
     "slide_type": "slide"
    }
   },
   "source": [
    " "
   ]
  }
 ],
 "metadata": {
  "celltoolbar": "Diaporama",
  "kernelspec": {
   "display_name": "Python 3",
   "language": "python",
   "name": "python3"
  },
  "language_info": {
   "codemirror_mode": {
    "name": "ipython",
    "version": 3
   },
   "file_extension": ".py",
   "mimetype": "text/x-python",
   "name": "python",
   "nbconvert_exporter": "python",
   "pygments_lexer": "ipython3",
   "version": "3.8.7"
  }
 },
 "nbformat": 4,
 "nbformat_minor": 2
}
